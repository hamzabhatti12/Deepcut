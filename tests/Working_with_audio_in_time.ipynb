{
 "cells": [
  {
   "cell_type": "markdown",
   "metadata": {},
   "source": [
    "# Practice Assignment 1: Working with audio in time \n",
    "Working with (possibly overlapping) time intervals and .wav files is important for almost all code in the project\n",
    "\n",
    "Download necessary files here:\n",
    "https://utdallas.box.com/s/0nwxfi1hwqrruows8a5bxx6cv8e400s8\n",
    "\n",
    "### In doing this assignment, I make sure that you know the following:\n",
    "* Familiarity with the .wav file format\n",
    "* Concatenating audio files (binary files with header info) of a fixed format (fixed : sample rate, # channels, encoding, etc.)\n",
    "* Running command line tools (force-allignment) in Python\n",
    "* Using the interval tree data structure\n",
    "* How to create plots in Python\n",
    "* Upload your code to GitHub\n"
   ]
  },
  {
   "cell_type": "markdown",
   "metadata": {},
   "source": [
    "# Instructions\n",
    "Given a set of speech files, their transcriptions, and a phone dictionary (Librispeech):\n",
    "1. Run montreal-force-alligner using os.system(cmd) and get the allignment .TextGrid file for each audio+transcript\n",
    "2. Pad the audio clips with 3 seconds of silence at the end and then concatenate these padded files together \n",
    "3. Create an interval tree of phoneme timings for each audio clip using the .TextGrid files\n",
    "4. Plot the amplitude vs time of the long concatenated file\n",
    "5. Instantiate the following set as an interval tree\n",
    "$$X = (1,2) \\cup (3,4) \\cup (6,7)$$\n",
    "6. Place a mark on the plot for each phoneme's start and end time, excluding those lying in $X$"
   ]
  },
  {
   "cell_type": "markdown",
   "metadata": {},
   "source": [
    "#### 1. Run montreal-force-alligner using os.system(cmd) and get the allignment .TextGrid file for each audio+transcript\n",
    "\n",
    "* The transcriptions should be text files with the file extension '.lab' Do this if not already done.\n",
    "* The transcriptions must be in the same directory as each audio segment.\n",
    "\n",
    "The code should be similar to:"
   ]
  },
  {
   "cell_type": "code",
   "execution_count": 6,
   "metadata": {},
   "outputs": [
    {
     "name": "stdout",
     "output_type": "stream",
     "text": [
      "This block will run force allignment with the command:\n",
      "C:/Deepcut/Tests/Jerry/mfa.exe C:/Deepcut/Tests/Jerry/corpus C:/Deepcut/Tests/Jerry/librispeech-lexicon.txt C:/Deepcut/Tests/Jerry/alligned --verbose\n"
     ]
    }
   ],
   "source": [
    "import os\n",
    "from pathlib import Path\n",
    "\n",
    "mfa_path = Path('C:/Deepcut/tests/Jerry/mfa.exe')\n",
    "corpus_path = Path('C:/Deepcut/tests/Jerry/corpus') #i.e. input path\n",
    "dictionary_path = Path('C:/Deepcut/tests/Jerry/librispeech-lexicon.txt')\n",
    "output_path = Path('C:/Deepcut/tests/Jerry/alligned')\n",
    "\n",
    "cmd = '%s %s %s %s --verbose' % (mfa_path, corpus_path, dictionary_path, output_path)\n",
    "\n",
    "print('This block will run force allignment with the command:\\n%s' % cmd)\n",
    "os.system(cmd)"
   ]
  },
  {
   "cell_type": "markdown",
   "metadata": {},
   "source": [
    "#### 2. Pad the audio clips with 3 seconds of silence at the end and then concatenate these padded files together \n",
    "* If possible, it is concatenate numpy arrays all at once, instead of incrementally\n",
    "* Note that sample rate (<code>rate</code>) is given in the units:\n",
    "$$sample\\;rate\\;(sr) = \\frac{number\\;of\\;samples}{duration\\;in\\; second}$$\n",
    "\n",
    "For an explaination on <code>**</code>, see https://stackoverflow.com/questions/25336726/why-cant-i-iterate-twice-over-the-same-data\n",
    "\n",
    "For an explaination on <code>***</code>, the scipy wav module encodes the .wav file using the datatype of the numpy array that it sees (<code>concat</code> in this case)  \n",
    "\n",
    "The code should be similar to:"
   ]
  },
  {
   "cell_type": "code",
   "execution_count": null,
   "metadata": {},
   "outputs": [],
   "source": [
    "import scipy.io.wavfile as wav\n",
    "import numpy as np\n",
    "\n",
    "corpus_audio = [path for path in corpus_path.glob('*.wav')] # **\n",
    "output_path = Path('C:/Deepcut/tests/Jerry/all.wav') \n",
    "\n",
    "pad_time = 3 # seconds\n",
    "all_padded = [] # list that stores padded audio data before concat\n",
    "for file in corpus_audio:\n",
    "    rate, data = wav.read(file)\n",
    "    padding = np.zeros(# number of zeros here)\n",
    "    ###############################################\n",
    "    # Determine how many zeros to pad at fixed sample rate \n",
    "    # Concatenate data and padding and add to end of list (all_padded) \n",
    "    ###############################################\n",
    "    \n",
    "    \n",
    "###############################################\n",
    "# Concatenate all_padded and write as all.wav \n",
    "###############################################\n",
    "concat = np.\n",
    "wav.write(output_path, rate, concat.astype(np.int32)) # ***"
   ]
  },
  {
   "cell_type": "markdown",
   "metadata": {},
   "source": [
    "#### 3. Create an interval tree of phoneme timings for each audio clip using the .TextGrid files\n",
    "* Be sure to install the interval tree module in your python env\n",
    "https://pypi.org/project/intervaltree/\n",
    "* Be sure to install the textgrid module in your python env\n",
    "https://github.com/kylebgorman/textgrid\n",
    "* Read the docs (and code, if necessary). Message me any questions"
   ]
  },
  {
   "cell_type": "code",
   "execution_count": null,
   "metadata": {},
   "outputs": [],
   "source": [
    "from intervaltree import IntervalTree\n",
    "from textgrid import TextGrid\n",
    "\n",
    "trees = []\n",
    "for file in corpus_path.glob('*.TextGrid'):\n",
    "    tree = IntervalTree()\n",
    "    ###############################################\n",
    "    # Determine how to index through textgrid intervals \n",
    "    # Add each interval to tree (use tree.addi)\n",
    "    ###############################################\n",
    "    intervals = # Read .textgrid file\n",
    "    for interval in intervals:\n",
    "        tree.addi()"
   ]
  },
  {
   "cell_type": "markdown",
   "metadata": {},
   "source": [
    "#### 4. Plot the amplitude vs time of the long concatenated file\n",
    "* There's a lot of documentation on this. The library chosen to plot isn't important.\n",
    "* Different plotting libraries: matplotlib, plotly, seaborn, etc. (there's a lot of them. Choose one. They all work similarly)"
   ]
  },
  {
   "cell_type": "code",
   "execution_count": null,
   "metadata": {},
   "outputs": [],
   "source": [
    "import #Some plotting library\n",
    "\n",
    "# Time axis will be given by\n",
    "t = np.linspace(0, len(concat)/rate, num = len(concat))\n",
    "##################\n",
    "# Plot t vs data\n",
    "##################"
   ]
  },
  {
   "cell_type": "markdown",
   "metadata": {},
   "source": [
    "#### 5. Instantiate the following set as an interval tree\n",
    "$$X = (1,2) \\cup (3,4) \\cup (6,7)$$\n",
    "* Done similarly to part 3."
   ]
  },
  {
   "cell_type": "markdown",
   "metadata": {},
   "source": [
    "#### 6. Place a mark on the plot for each phoneme's start and end time, excluding those lying in $X$\n",
    "* This will be a bit harder"
   ]
  },
  {
   "cell_type": "code",
   "execution_count": null,
   "metadata": {},
   "outputs": [],
   "source": [
    "###############################################\n",
    "# Shift each interval tree based on order and lengths of padded data\n",
    "# Take union of all shifted trees\n",
    "# Only plot the points that exist in the Union_Tree - X (setminus)\n",
    "# Equivalently use an if statement\n",
    "###############################################"
   ]
  }
 ],
 "metadata": {
  "kernelspec": {
   "display_name": "Python 3",
   "language": "python",
   "name": "python3"
  },
  "language_info": {
   "codemirror_mode": {
    "name": "ipython",
    "version": 3
   },
   "file_extension": ".py",
   "mimetype": "text/x-python",
   "name": "python",
   "nbconvert_exporter": "python",
   "pygments_lexer": "ipython3",
   "version": "3.7.6"
  }
 },
 "nbformat": 4,
 "nbformat_minor": 4
}
